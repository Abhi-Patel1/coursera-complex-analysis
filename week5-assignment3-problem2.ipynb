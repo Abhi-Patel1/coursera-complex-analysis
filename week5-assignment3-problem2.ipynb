{
 "cells": [
  {
   "cell_type": "code",
   "execution_count": 1,
   "metadata": {
    "collapsed": true
   },
   "outputs": [],
   "source": [
    "from __future__ import print_function, division\n",
    "import numpy as np\n",
    "import matplotlib as mpl\n",
    "import matplotlib.pyplot as plt\n",
    "from mpl_toolkits.axes_grid.axislines import SubplotZero"
   ]
  },
  {
   "cell_type": "code",
   "execution_count": 2,
   "metadata": {
    "collapsed": true
   },
   "outputs": [],
   "source": [
    "%matplotlib inline"
   ]
  },
  {
   "cell_type": "markdown",
   "metadata": {},
   "source": [
    "### PROBLEM 2"
   ]
  },
  {
   "cell_type": "code",
   "execution_count": 3,
   "metadata": {
    "collapsed": false
   },
   "outputs": [
    {
     "data": {
      "image/png": "[encoded data removed]",
      "text/plain": [
       "<matplotlib.figure.Figure at 0x10c83edd0>"
      ]
     },
     "metadata": {},
     "output_type": "display_data"
    }
   ],
   "source": [
    "fig = plt.figure(1, figsize=[6,3])\n",
    "ax = SubplotZero(fig, 111)\n",
    "fig.add_subplot(ax, aspect='equal')\n",
    "\n",
    "for direction in [\"xzero\", \"yzero\"]:\n",
    "    ax.axis[direction].set_axisline_style(\"->\", size=1.5)\n",
    "    ax.axis[direction].set_visible(True)\n",
    "    ax.axis[direction].major_ticklabels.set_fontsize(13)    \n",
    "\n",
    "for direction in [\"left\", \"right\", \"bottom\", \"top\"]:\n",
    "    ax.axis[direction].set_visible(False)\n",
    "\n",
    "ax.set_xlim(0,4)\n",
    "ax.set_ylim(0,1.5)\n",
    "ax.set_xticks([0,1,2,3,4])\n",
    "ax.set_yticks([0,1])\n",
    "\n",
    "rx = np.pi\n",
    "ry = 1\n",
    "\n",
    "rect = mpl.patches.Rectangle((0,0), width=rx, height=ry, facecolor='none', edgecolor='r', hatch='/', lw=0)\n",
    "ax.add_artist(rect)\n",
    "\n",
    "ax.plot([0,0], [0,ry], color='r', ls='--', lw=2)\n",
    "ax.plot([rx,rx], [0,ry], color='r', ls='--', lw=2)\n",
    "ax.plot([0,rx], [ry,ry], color='r', ls='--', lw=2)\n",
    "ax.plot([0,rx], [0,0], color='r', ls='--', lw=2)\n",
    "\n",
    "ax.text(3.6, 0.15, 'x=Re(z)', fontsize=14)\n",
    "ax.text(0.15, 1.65, 'y=Im(z)', fontsize=14)\n",
    "\n",
    "ax.scatter([0,rx], [ry,0], color='k', marker='o', lw=1)\n",
    "ax.text(rx, 0, '$\\pi$', fontsize=16, color='k', ha='left', va='top')\n",
    "ax.text(rx/2, ry/2, '$D$', fontsize=22, color='r', ha='center', va='center')\n",
    "\n",
    "ax.scatter([rx/2], [ry], color='b', s=50)\n",
    "\n",
    "ax.annotate('Maximum attained at $\\pi/2+i$', xy=(rx/2, ry + 0.05), xytext=(rx/2, ry + 0.3), ha='center', va='bottom', fontsize=14, color='b',\n",
    "            arrowprops=dict(facecolor='b', edgecolor='b', arrowstyle='simple'))\n",
    "\n",
    "plt.show()"
   ]
  },
  {
   "cell_type": "code",
   "execution_count": 4,
   "metadata": {
    "collapsed": false
   },
   "outputs": [
    {
     "data": {
      "text/latex": [
       "Since $f(z) = \\sin z$ is analytic in $D$, according to the Maximum Principle, its maximum must occur on the boundary"
      ],
      "text/plain": [
       "<IPython.core.display.Latex object>"
      ]
     },
     "metadata": {},
     "output_type": "display_data"
    }
   ],
   "source": [
    "%%latex\n",
    "Since $f(z) = \\sin z$ is analytic in $D$, according to the Maximum Principle, its maximum must occur on the boundary"
   ]
  },
  {
   "cell_type": "code",
   "execution_count": 5,
   "metadata": {
    "collapsed": false
   },
   "outputs": [
    {
     "data": {
      "text/latex": [
       "Although we can follow the instructions to inspect each of the 4 edges, there is a much simpler way"
      ],
      "text/plain": [
       "<IPython.core.display.Latex object>"
      ]
     },
     "metadata": {},
     "output_type": "display_data"
    }
   ],
   "source": [
    "%%latex\n",
    "Although we can follow the instructions to inspect each of the 4 edges, there is a much simpler way"
   ]
  },
  {
   "cell_type": "code",
   "execution_count": 6,
   "metadata": {
    "collapsed": false
   },
   "outputs": [
    {
     "data": {
      "text/latex": [
       "Suppose $\\:z = x + i y$, where $x \\in (0, \\pi)$ and $y \\in (0,1)$"
      ],
      "text/plain": [
       "<IPython.core.display.Latex object>"
      ]
     },
     "metadata": {},
     "output_type": "display_data"
    }
   ],
   "source": [
    "%%latex\n",
    "Suppose $\\:z = x + i y$, where $x \\in (0, \\pi)$ and $y \\in (0,1)$"
   ]
  },
  {
   "cell_type": "code",
   "execution_count": 7,
   "metadata": {
    "collapsed": false
   },
   "outputs": [
    {
     "data": {
      "text/latex": [
       "As $\\:f(z) = \\sin z = \\sin x \\cosh y + i \\cos x \\sinh y$"
      ],
      "text/plain": [
       "<IPython.core.display.Latex object>"
      ]
     },
     "metadata": {},
     "output_type": "display_data"
    }
   ],
   "source": [
    "%%latex\n",
    "As $\\:f(z) = \\sin z = \\sin x \\cosh y + i \\cos x \\sinh y$"
   ]
  },
  {
   "cell_type": "code",
   "execution_count": 8,
   "metadata": {
    "collapsed": false
   },
   "outputs": [
    {
     "data": {
      "text/latex": [
       "We have $\\:|f(z)| = \\sqrt{\\sin^2 x \\cosh^2 y + \\cos^2 x \\sinh^2 y}$"
      ],
      "text/plain": [
       "<IPython.core.display.Latex object>"
      ]
     },
     "metadata": {},
     "output_type": "display_data"
    }
   ],
   "source": [
    "%%latex\n",
    "We have $\\:|f(z)| = \\sqrt{\\sin^2 x \\cosh^2 y + \\cos^2 x \\sinh^2 y}$"
   ]
  },
  {
   "cell_type": "code",
   "execution_count": 9,
   "metadata": {
    "collapsed": false
   },
   "outputs": [
    {
     "data": {
      "text/latex": [
       "$\\qquad\\qquad\\quad = \\sqrt{\\sin^2 x (\\sinh^2 y + 1) + \\cos^2 x \\sinh^2 y}$"
      ],
      "text/plain": [
       "<IPython.core.display.Latex object>"
      ]
     },
     "metadata": {},
     "output_type": "display_data"
    }
   ],
   "source": [
    "%%latex\n",
    "$\\qquad\\qquad\\quad = \\sqrt{\\sin^2 x (\\sinh^2 y + 1) + \\cos^2 x \\sinh^2 y}$"
   ]
  },
  {
   "cell_type": "code",
   "execution_count": 10,
   "metadata": {
    "collapsed": false
   },
   "outputs": [
    {
     "data": {
      "text/latex": [
       "$\\qquad\\qquad\\quad = \\sqrt{(\\sin^2 x + \\cos^2 x)\\sinh^2 y + \\sin^2 x}$"
      ],
      "text/plain": [
       "<IPython.core.display.Latex object>"
      ]
     },
     "metadata": {},
     "output_type": "display_data"
    }
   ],
   "source": [
    "%%latex\n",
    "$\\qquad\\qquad\\quad = \\sqrt{(\\sin^2 x + \\cos^2 x)\\sinh^2 y + \\sin^2 x}$"
   ]
  },
  {
   "cell_type": "code",
   "execution_count": 11,
   "metadata": {
    "collapsed": false
   },
   "outputs": [
    {
     "data": {
      "text/latex": [
       "$\\qquad\\qquad\\quad = \\sqrt{\\sinh^2 y + \\sin^2 x}$"
      ],
      "text/plain": [
       "<IPython.core.display.Latex object>"
      ]
     },
     "metadata": {},
     "output_type": "display_data"
    }
   ],
   "source": [
    "%%latex\n",
    "$\\qquad\\qquad\\quad = \\sqrt{\\sinh^2 y + \\sin^2 x}$"
   ]
  },
  {
   "cell_type": "code",
   "execution_count": 12,
   "metadata": {
    "collapsed": false
   },
   "outputs": [
    {
     "data": {
      "text/latex": [
       "We know that $\\sinh^2 y$ is a strictly increasing function in $y \\in (0, 1)$, therefore attaining its maximum value at $y=1$"
      ],
      "text/plain": [
       "<IPython.core.display.Latex object>"
      ]
     },
     "metadata": {},
     "output_type": "display_data"
    }
   ],
   "source": [
    "%%latex\n",
    "We know that $\\sinh^2 y$ is a strictly increasing function in $y \\in (0, 1)$, therefore attaining its maximum value at $y=1$"
   ]
  },
  {
   "cell_type": "code",
   "execution_count": 13,
   "metadata": {
    "collapsed": false
   },
   "outputs": [
    {
     "data": {
      "text/latex": [
       "We also known that $\\sin^2 x$ is a periodic function in $R$, and within $(0, \\pi)$ its maximum value is only attained at $x = \\frac{\\pi}{2}$"
      ],
      "text/plain": [
       "<IPython.core.display.Latex object>"
      ]
     },
     "metadata": {},
     "output_type": "display_data"
    }
   ],
   "source": [
    "%%latex\n",
    "We also known that $\\sin^2 x$ is a periodic function in $R$, and within $(0, \\pi)$ its maximum value is only attained at $x = \\frac{\\pi}{2}$"
   ]
  },
  {
   "cell_type": "code",
   "execution_count": 14,
   "metadata": {
    "collapsed": false
   },
   "outputs": [
    {
     "data": {
      "text/latex": [
       "Therefore $\\:|f(z)| \\leq \\sqrt{\\sinh^2 1 + \\sin^2 \\frac{\\pi}{2}} = \\sqrt{\\sinh^2 1 + 1} = \\sqrt{\\cosh^2 1} = \\cosh 1 = \\frac{e + e^{-1}}{2}$"
      ],
      "text/plain": [
       "<IPython.core.display.Latex object>"
      ]
     },
     "metadata": {},
     "output_type": "display_data"
    }
   ],
   "source": [
    "%%latex\n",
    "Therefore $\\:|f(z)| \\leq \\sqrt{\\sinh^2 1 + \\sin^2 \\frac{\\pi}{2}} = \\sqrt{\\sinh^2 1 + 1} = \\sqrt{\\cosh^2 1} = \\cosh 1 = \\frac{e + e^{-1}}{2}$"
   ]
  },
  {
   "cell_type": "code",
   "execution_count": 15,
   "metadata": {
    "collapsed": false
   },
   "outputs": [
    {
     "data": {
      "text/latex": [
       "And the equality can only be attained when $x = \\frac{\\pi}{2}$ and $y = 1$, that is $z = \\frac{\\pi}{2} + i$"
      ],
      "text/plain": [
       "<IPython.core.display.Latex object>"
      ]
     },
     "metadata": {},
     "output_type": "display_data"
    }
   ],
   "source": [
    "%%latex\n",
    "And the equality can only be attained when $x = \\frac{\\pi}{2}$ and $y = 1$, that is $z = \\frac{\\pi}{2} + i$"
   ]
  },
  {
   "cell_type": "code",
   "execution_count": 16,
   "metadata": {
    "collapsed": false
   },
   "outputs": [
    {
     "data": {
      "text/latex": [
       "So the maximum of $|f(z)|$ is $\\frac{e + e^{-1}}{2}$, which is only attained at $z = \\frac{\\pi}{2} + i$"
      ],
      "text/plain": [
       "<IPython.core.display.Latex object>"
      ]
     },
     "metadata": {},
     "output_type": "display_data"
    }
   ],
   "source": [
    "%%latex\n",
    "So the maximum of $|f(z)|$ is $\\frac{e + e^{-1}}{2}$, which is only attained at $z = \\frac{\\pi}{2} + i$"
   ]
  },
  {
   "cell_type": "code",
   "execution_count": 17,
   "metadata": {
    "collapsed": false
   },
   "outputs": [
    {
     "data": {
      "text/latex": [
       "We can check that this is indeed at the boundary"
      ],
      "text/plain": [
       "<IPython.core.display.Latex object>"
      ]
     },
     "metadata": {},
     "output_type": "display_data"
    }
   ],
   "source": [
    "%%latex\n",
    "We can check that this is indeed at the boundary"
   ]
  }
 ],
 "metadata": {
  "hide_input": false,
  "kernelspec": {
   "display_name": "Python 2",
   "language": "python",
   "name": "python2"
  },
  "language_info": {
   "codemirror_mode": {
    "name": "ipython",
    "version": 2
   },
   "file_extension": ".py",
   "mimetype": "text/x-python",
   "name": "python",
   "nbconvert_exporter": "python",
   "pygments_lexer": "ipython2",
   "version": "2.7.12"
  }
 },
 "nbformat": 4,
 "nbformat_minor": 0
}
