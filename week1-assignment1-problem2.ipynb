{
 "cells": [
  {
   "cell_type": "code",
   "execution_count": 1,
   "metadata": {
    "collapsed": true
   },
   "outputs": [],
   "source": [
    "from __future__ import print_function, division\n",
    "import numpy as np\n",
    "import matplotlib as mpl\n",
    "import matplotlib.pyplot as plt\n",
    "from mpl_toolkits.axes_grid.axislines import SubplotZero"
   ]
  },
  {
   "cell_type": "code",
   "execution_count": 2,
   "metadata": {
    "collapsed": true
   },
   "outputs": [],
   "source": [
    "%matplotlib inline"
   ]
  },
  {
   "cell_type": "markdown",
   "metadata": {
    "slideshow": {
     "slide_type": "-"
    }
   },
   "source": [
    "### PROBLEM 2"
   ]
  },
  {
   "cell_type": "code",
   "execution_count": 5,
   "metadata": {
    "collapsed": false,
    "scrolled": false
   },
   "outputs": [
    {
     "data": {
      "text/latex": [
       "Assuming $z$ is a 6th root of unity, then it must satisfy:\n",
       "$$\\qquad z^6 = 1 = 1 \\cdot e^{i \\cdot 0}$$\n",
       "So that:\n",
       "$$\\qquad z_k = \\sqrt[6]{1} \\cdot e^{i \\cdot (0 + \\frac{2k \\pi}{6})}, \\quad k = 0, 1, 2, 3, 4, 5$$\n",
       "That is:\n",
       "$$\\qquad z_0 = 1$$\n",
       "$$\\qquad z_1 = e^{i \\cdot \\frac{\\pi}{3}}$$\n",
       "$$\\qquad z_2 = e^{i \\cdot \\frac{2\\pi}{3}}$$\n",
       "$$\\qquad z_3 = -1$$\n",
       "$$\\qquad z_4 = e^{i \\cdot \\frac{4\\pi}{3}}$$\n",
       "$$\\qquad z_5 = e^{i \\cdot \\frac{5\\pi}{3}}$$\n",
       "All 6 roots have unit length, but different arg. They are equally spaced on the unit circle._k"
      ],
      "text/plain": [
       "<IPython.core.display.Latex object>"
      ]
     },
     "metadata": {},
     "output_type": "display_data"
    }
   ],
   "source": [
    "%%latex\n",
    "Assuming $z$ is a 6th root of unity, then it must satisfy:\n",
    "$$\\qquad z^6 = 1 = 1 \\cdot e^{i \\cdot 0}$$\n",
    "So that:\n",
    "$$\\qquad z_k = \\sqrt[6]{1} \\cdot e^{i \\cdot (0 + \\frac{2k \\pi}{6})}, \\quad k = 0, 1, 2, 3, 4, 5$$\n",
    "That is:\n",
    "$$\\qquad z_0 = 1$$\n",
    "$$\\qquad z_1 = e^{i \\cdot \\frac{\\pi}{3}}$$\n",
    "$$\\qquad z_2 = e^{i \\cdot \\frac{2\\pi}{3}}$$\n",
    "$$\\qquad z_3 = -1$$\n",
    "$$\\qquad z_4 = e^{i \\cdot \\frac{4\\pi}{3}}$$\n",
    "$$\\qquad z_5 = e^{i \\cdot \\frac{5\\pi}{3}}$$\n",
    "All 6 roots have unit length, but different arg. They are equally spaced on the unit circle._k"
   ]
  },
  {
   "cell_type": "code",
   "execution_count": 17,
   "metadata": {
    "collapsed": false,
    "scrolled": false
   },
   "outputs": [
    {
     "data": {
      "image/png": "[encoded data removed]",
      "text/plain": [
       "<matplotlib.figure.Figure at 0x10dce8e90>"
      ]
     },
     "metadata": {},
     "output_type": "display_data"
    }
   ],
   "source": [
    "fig = plt.figure(1, figsize=[6,6])\n",
    "ax = SubplotZero(fig, 111)\n",
    "fig.add_subplot(ax, aspect='equal')\n",
    "\n",
    "for direction in [\"xzero\", \"yzero\"]:\n",
    "    ax.axis[direction].set_axisline_style(\"->\", size=1.5)\n",
    "    ax.axis[direction].set_visible(True)\n",
    "    ax.axis[direction].major_ticklabels.set_fontsize(13)    \n",
    "\n",
    "for direction in [\"left\", \"right\", \"bottom\", \"top\"]:\n",
    "    ax.axis[direction].set_visible(False)\n",
    "\n",
    "ax.set_xlim(-2,2)\n",
    "ax.set_ylim(-2,2)\n",
    "ax.set_xticks([-2,-1,0,1,2])\n",
    "ax.set_yticks([-2,-1,0,1,2])\n",
    "    \n",
    "unit_circle = plt.Circle((0,0), 1, color='b', fill=False, ls='--', lw=2)\n",
    "ax.add_artist(unit_circle)\n",
    "ax.annotate('unit circle', xy=(0.88, 0.58), xytext=(1.2, 1), ha='left', va='bottom', fontsize=14, color='b',\n",
    "            arrowprops=dict(facecolor='b', edgecolor='b', arrowstyle='simple'))\n",
    "\n",
    "ax.text(1.6, 0.1, 'x=Re(z)', fontsize=14)\n",
    "ax.text(-0.75, 2, 'y=Im(z)', fontsize=14)\n",
    "\n",
    "rootx = np.cos(np.arange(6)/6 * 2 * np.pi)\n",
    "rooty = np.sin(np.arange(6)/6 * 2 * np.pi)\n",
    "for i in xrange(6):\n",
    "    ax.plot([0, rootx[i]], [0, rooty[i]], color='b', ls='--', lw=2)\n",
    "    ax.text(rootx[i]*1.25, rooty[i]*1.25, 'z%d'%i, color='r', ha='center', va='center', fontsize=15)\n",
    "\n",
    "ax.scatter(rootx, rooty, color='r', s=50)\n",
    "    \n",
    "angle_arc = mpl.patches.Arc([0,0], 0.5, 0.5, 0, 305, 355, color='b', lw=2)\n",
    "ax.add_artist(angle_arc)\n",
    "ax.annotate('$\\pi/3$', xy=(0.25, -0.15), xytext=(1.0, -0.7), ha='left', va='top', fontsize=16, color='b',\n",
    "            arrowprops=dict(facecolor='b', edgecolor='b', arrowstyle='simple'))\n",
    "\n",
    "plt.show()"
   ]
  },
  {
   "cell_type": "code",
   "execution_count": null,
   "metadata": {
    "collapsed": true
   },
   "outputs": [],
   "source": []
  }
 ],
 "metadata": {
  "hide_input": false,
  "kernelspec": {
   "display_name": "Python 2",
   "language": "python",
   "name": "python2"
  },
  "language_info": {
   "codemirror_mode": {
    "name": "ipython",
    "version": 2
   },
   "file_extension": ".py",
   "mimetype": "text/x-python",
   "name": "python",
   "nbconvert_exporter": "python",
   "pygments_lexer": "ipython2",
   "version": "2.7.12"
  }
 },
 "nbformat": 4,
 "nbformat_minor": 0
}
