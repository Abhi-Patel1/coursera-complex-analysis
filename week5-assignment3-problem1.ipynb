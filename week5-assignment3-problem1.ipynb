{
 "cells": [
  {
   "cell_type": "code",
   "execution_count": 1,
   "metadata": {
    "collapsed": true
   },
   "outputs": [],
   "source": [
    "from __future__ import print_function, division\n",
    "import numpy as np\n",
    "import matplotlib as mpl\n",
    "import matplotlib.pyplot as plt\n",
    "from mpl_toolkits.axes_grid.axislines import SubplotZero"
   ]
  },
  {
   "cell_type": "code",
   "execution_count": 2,
   "metadata": {
    "collapsed": true
   },
   "outputs": [],
   "source": [
    "%matplotlib inline"
   ]
  },
  {
   "cell_type": "markdown",
   "metadata": {},
   "source": [
    "### PROBLEM 1"
   ]
  },
  {
   "cell_type": "code",
   "execution_count": 3,
   "metadata": {
    "collapsed": false
   },
   "outputs": [
    {
     "data": {
      "text/latex": [
       "The boundary of half annulus\n",
       "$A = \\{z \\in C \\mid e^{-\\frac{\\pi}{4}} < |z| < e^{\\frac{\\pi}{4}}, \\operatorname{Re} z > 0 \\}$\n",
       "consists of 4 parts:"
      ],
      "text/plain": [
       "<IPython.core.display.Latex object>"
      ]
     },
     "metadata": {},
     "output_type": "display_data"
    }
   ],
   "source": [
    "%%latex\n",
    "The boundary of half annulus\n",
    "$A = \\{z \\in C \\mid e^{-\\frac{\\pi}{4}} < |z| < e^{\\frac{\\pi}{4}}, \\operatorname{Re} z > 0 \\}$\n",
    "consists of 4 parts:"
   ]
  },
  {
   "cell_type": "code",
   "execution_count": 4,
   "metadata": {
    "collapsed": false
   },
   "outputs": [
    {
     "data": {
      "text/latex": [
       "$$\\quad \\partial A_1 = \\{z \\in C \\mid |z| = e^{-\\frac{\\pi}{4}}, \\operatorname{Re} z > 0 \\}$$\n",
       "$$\\quad \\partial A_2 = \\{z \\in C \\mid |z| = e^{\\frac{\\pi}{4}}, \\operatorname{Re} z > 0 \\}$$\n",
       "$$\\quad \\partial A_3 = \\{z \\in C \\mid e^{-\\frac{\\pi}{4}} \\leq \\operatorname{Im} z \\leq e^{\\frac{\\pi}{4}}, \\operatorname{Re} z = 0 \\}$$\n",
       "$$\\quad \\partial A_4 = \\{z \\in C \\mid -e^{\\frac{\\pi}{4}} \\leq \\operatorname{Im} z \\leq -e^{-\\frac{\\pi}{4}}, \\operatorname{Re} z = 0 \\}$$"
      ],
      "text/plain": [
       "<IPython.core.display.Latex object>"
      ]
     },
     "metadata": {},
     "output_type": "display_data"
    }
   ],
   "source": [
    "%%latex\n",
    "$$\\quad \\partial A_1 = \\{z \\in C \\mid |z| = e^{-\\frac{\\pi}{4}}, \\operatorname{Re} z > 0 \\}$$\n",
    "$$\\quad \\partial A_2 = \\{z \\in C \\mid |z| = e^{\\frac{\\pi}{4}}, \\operatorname{Re} z > 0 \\}$$\n",
    "$$\\quad \\partial A_3 = \\{z \\in C \\mid e^{-\\frac{\\pi}{4}} \\leq \\operatorname{Im} z \\leq e^{\\frac{\\pi}{4}}, \\operatorname{Re} z = 0 \\}$$\n",
    "$$\\quad \\partial A_4 = \\{z \\in C \\mid -e^{\\frac{\\pi}{4}} \\leq \\operatorname{Im} z \\leq -e^{-\\frac{\\pi}{4}}, \\operatorname{Re} z = 0 \\}$$"
   ]
  },
  {
   "cell_type": "code",
   "execution_count": 5,
   "metadata": {
    "collapsed": false
   },
   "outputs": [
    {
     "data": {
      "text/latex": [
       "$\\quad$where $\\partial A_1$ and $\\partial A_2$ are two half circles,\n",
       "$\\partial A_3$ and $\\partial A_4$ are two line segments on the imaginary axis"
      ],
      "text/plain": [
       "<IPython.core.display.Latex object>"
      ]
     },
     "metadata": {},
     "output_type": "display_data"
    }
   ],
   "source": [
    "%%latex\n",
    "$\\quad$where $\\partial A_1$ and $\\partial A_2$ are two half circles,\n",
    "$\\partial A_3$ and $\\partial A_4$ are two line segments on the imaginary axis"
   ]
  },
  {
   "cell_type": "code",
   "execution_count": 6,
   "metadata": {
    "collapsed": false
   },
   "outputs": [
    {
     "data": {
      "text/latex": [
       "$\\quad$together they are shown in the figure below"
      ],
      "text/plain": [
       "<IPython.core.display.Latex object>"
      ]
     },
     "metadata": {},
     "output_type": "display_data"
    }
   ],
   "source": [
    "%%latex\n",
    "$\\quad$together they are shown in the figure below"
   ]
  },
  {
   "cell_type": "code",
   "execution_count": 7,
   "metadata": {
    "collapsed": false
   },
   "outputs": [
    {
     "data": {
      "image/png": "[encoded data removed]",
      "text/plain": [
       "<matplotlib.figure.Figure at 0x1115df890>"
      ]
     },
     "metadata": {},
     "output_type": "display_data"
    }
   ],
   "source": [
    "fig = plt.figure(1, figsize=[6,6])\n",
    "ax = SubplotZero(fig, 111)\n",
    "fig.add_subplot(ax, aspect='equal')\n",
    "\n",
    "for direction in [\"xzero\", \"yzero\"]:\n",
    "    ax.axis[direction].set_axisline_style(\"->\", size=1.5)\n",
    "    ax.axis[direction].set_visible(True)\n",
    "    ax.axis[direction].major_ticklabels.set_fontsize(13)    \n",
    "\n",
    "for direction in [\"left\", \"right\", \"bottom\", \"top\"]:\n",
    "    ax.axis[direction].set_visible(False)\n",
    "\n",
    "ax.set_xlim(-2,4)\n",
    "ax.set_ylim(-3,3)\n",
    "ax.set_xticks([-2,-1,0,1,2,3,4])\n",
    "ax.set_yticks([-3,-2,-1,0,1,2,3])\n",
    "\n",
    "r = np.exp(-np.pi/4)\n",
    "R = np.exp(np.pi/4)\n",
    "\n",
    "anuulus = mpl.patches.Wedge((0,0), R, -90, 90, width=R-r, facecolor='none', edgecolor='r', hatch='/', lw=0)\n",
    "ax.add_artist(anuulus)\n",
    "\n",
    "inner_arc = mpl.patches.Arc([0,0], 2*r, 2*r, 0, -90, 90, color='b', ls='--', lw=3)\n",
    "ax.add_artist(inner_arc)\n",
    "\n",
    "outer_arc = mpl.patches.Arc([0,0], 2*R, 2*R, 0, -90, 90, color='g', ls='--', lw=3)\n",
    "ax.add_artist(outer_arc)\n",
    "\n",
    "ax.plot([0,0], [r,R], color='m', ls='--', lw=3)\n",
    "ax.plot([0,0], [-r,-R], color='y', ls='--', lw=3)\n",
    "\n",
    "ax.text(3.6, 0.15, 'x=Re(z)', fontsize=14)\n",
    "ax.text(0.15, 3.25, 'y=Im(z)', fontsize=14)\n",
    "\n",
    "ax.scatter([0,0,0,0,r,R], [-R,-r,r,R,0,0], color='k', marker='o', lw=1)\n",
    "ax.text(-0.1, -R, '$-e^{\\pi/4}$', fontsize=15, color='k', ha='right', va='center')\n",
    "ax.text(-0.1, -r, '$-e^{-\\pi/4}$', fontsize=15, color='k', ha='right', va='center')\n",
    "ax.text(-0.1, r, '$e^{-\\pi/4}$', fontsize=15, color='k', ha='right', va='center')\n",
    "ax.text(-0.1, R, '$e^{\\pi/4}$', fontsize=15, color='k', ha='right', va='center')\n",
    "ax.text(r+0.05, 0.05, '$e^{-\\pi/4}$', fontsize=15, color='k', ha='left', va='bottom')\n",
    "ax.text(R+0.05, 0.05, '$e^{\\pi/4}$', fontsize=15, color='k', ha='left', va='bottom')\n",
    "\n",
    "ax.annotate('$\\partial A_1$', xy=(0.3, 0.3), xytext=(-0.3, 0.1), ha='right', va='top', fontsize=14, color='b',\n",
    "            arrowprops=dict(facecolor='b', edgecolor='b', arrowstyle='simple'))\n",
    "ax.annotate('$\\partial A_2$', xy=(2.0, 1.0), xytext=(2.6, 1.2), ha='left', va='bottom', fontsize=14, color='g',\n",
    "            arrowprops=dict(facecolor='g', edgecolor='g', arrowstyle='simple'))\n",
    "ax.annotate('$\\partial A_3$', xy=(-0.1, 1.3), xytext=(-0.7, 1.3), ha='right', va='center', fontsize=14, color='m',\n",
    "            arrowprops=dict(facecolor='m', edgecolor='m', arrowstyle='simple'))\n",
    "ax.annotate('$\\partial A_4$', xy=(-0.1, -1.3), xytext=(-0.7, -1.3), ha='right', va='center', fontsize=14, color='y',\n",
    "            arrowprops=dict(facecolor='y', edgecolor='y', arrowstyle='simple'))\n",
    "ax.annotate('$A$ (hatched region)', xy=(1.0, -0.8), xytext=(1.9, -1.9), ha='left', va='top', fontsize=14, color='r',\n",
    "            arrowprops=dict(facecolor='r', edgecolor='r', arrowstyle='simple'))\n",
    "\n",
    "plt.show()"
   ]
  },
  {
   "cell_type": "code",
   "execution_count": 8,
   "metadata": {
    "collapsed": false
   },
   "outputs": [
    {
     "data": {
      "text/latex": [
       "The image of $A$ under $f$ is a rectangular region\n",
       "$f(A) = \\{z \\in C \\mid -\\frac{\\pi}{4} < \\operatorname{Re} z < \\frac{\\pi}{4}, -\\frac{\\pi}{2} < \\operatorname{Im} z < \\frac{\\pi}{2} \\}$"
      ],
      "text/plain": [
       "<IPython.core.display.Latex object>"
      ]
     },
     "metadata": {},
     "output_type": "display_data"
    }
   ],
   "source": [
    "%%latex\n",
    "The image of $A$ under $f$ is a rectangular region\n",
    "$f(A) = \\{z \\in C \\mid -\\frac{\\pi}{4} < \\operatorname{Re} z < \\frac{\\pi}{4}, -\\frac{\\pi}{2} < \\operatorname{Im} z < \\frac{\\pi}{2} \\}$"
   ]
  },
  {
   "cell_type": "code",
   "execution_count": 9,
   "metadata": {
    "collapsed": false
   },
   "outputs": [
    {
     "data": {
      "text/latex": [
       "Its boundary also consists of 4 parts, being exactly $f(\\partial A_1)$, $f(\\partial A_2)$, $f(\\partial A_3)$, $f(\\partial A_4)$"
      ],
      "text/plain": [
       "<IPython.core.display.Latex object>"
      ]
     },
     "metadata": {},
     "output_type": "display_data"
    }
   ],
   "source": [
    "%%latex\n",
    "Its boundary also consists of 4 parts, being exactly $f(\\partial A_1)$, $f(\\partial A_2)$, $f(\\partial A_3)$, $f(\\partial A_4)$"
   ]
  },
  {
   "cell_type": "code",
   "execution_count": 10,
   "metadata": {
    "collapsed": false
   },
   "outputs": [
    {
     "data": {
      "text/latex": [
       "$\\quad$together they are shown in the figure below"
      ],
      "text/plain": [
       "<IPython.core.display.Latex object>"
      ]
     },
     "metadata": {},
     "output_type": "display_data"
    }
   ],
   "source": [
    "%%latex\n",
    "$\\quad$together they are shown in the figure below"
   ]
  },
  {
   "cell_type": "code",
   "execution_count": 11,
   "metadata": {
    "collapsed": false
   },
   "outputs": [
    {
     "data": {
      "image/png": "[encoded data removed]",
      "text/plain": [
       "<matplotlib.figure.Figure at 0x11193c5d0>"
      ]
     },
     "metadata": {},
     "output_type": "display_data"
    }
   ],
   "source": [
    "fig = plt.figure(1, figsize=[6,6])\n",
    "ax = SubplotZero(fig, 111)\n",
    "fig.add_subplot(ax, aspect='equal')\n",
    "\n",
    "for direction in [\"xzero\", \"yzero\"]:\n",
    "    ax.axis[direction].set_axisline_style(\"->\", size=1.5)\n",
    "    ax.axis[direction].set_visible(True)\n",
    "    ax.axis[direction].major_ticklabels.set_fontsize(13)    \n",
    "\n",
    "for direction in [\"left\", \"right\", \"bottom\", \"top\"]:\n",
    "    ax.axis[direction].set_visible(False)\n",
    "\n",
    "ax.set_xlim(-2,2)\n",
    "ax.set_ylim(-2,2)\n",
    "ax.set_xticks([-2,-1,0,1,2])\n",
    "ax.set_yticks([-2,-1,0,1,2])\n",
    "\n",
    "rx = np.pi/4\n",
    "ry = np.pi/2\n",
    "\n",
    "rect = mpl.patches.Rectangle((-rx,-ry), width=2*rx, height=2*ry, facecolor='none', edgecolor='r', hatch='/', lw=0)\n",
    "ax.add_artist(rect)\n",
    "\n",
    "ax.plot([-rx,-rx], [-ry,ry], color='b', ls='--', lw=3)\n",
    "ax.plot([rx,rx], [-ry,ry], color='g', ls='--', lw=3)\n",
    "ax.plot([-rx,rx], [ry,ry], color='m', ls='--', lw=3)\n",
    "ax.plot([-rx,rx], [-ry,-ry], color='y', ls='--', lw=3)\n",
    "\n",
    "ax.text(1.6, 0.15, 'x=Re(z)', fontsize=14)\n",
    "ax.text(0.15, 2.25, 'y=Im(z)', fontsize=14)\n",
    "\n",
    "ax.scatter([0,0,-rx,rx], [-ry,ry,0,0], color='k', marker='o', lw=1)\n",
    "ax.text(-rx-0.05, 0.05, '$-\\pi/4$', fontsize=15, color='k', ha='center', va='bottom')\n",
    "ax.text(rx+0.05, 0.05, '$\\pi/4$', fontsize=15, color='k', ha='center', va='bottom')\n",
    "ax.text(0.05, -ry-0.05, '$-\\pi/2$', fontsize=15, color='k', ha='left', va='top')\n",
    "ax.text(0.05, ry+0.05, '$\\pi/2$', fontsize=15, color='k', ha='left', va='bottom')\n",
    "\n",
    "ax.annotate('$f(\\partial A_1)$', xy=(-0.85, 0.5), xytext=(-1.3, 0.5), ha='right', va='center', fontsize=14, color='b',\n",
    "            arrowprops=dict(facecolor='b', edgecolor='b', arrowstyle='simple'))\n",
    "ax.annotate('$f(\\partial A_2)$', xy=(0.85, 0.5), xytext=(1.3, 0.5), ha='left', va='center', fontsize=14, color='g',\n",
    "            arrowprops=dict(facecolor='g', edgecolor='g', arrowstyle='simple'))\n",
    "ax.annotate('$f(\\partial A_3)$', xy=(-0.4, 1.65), xytext=(-0.4, 1.95), ha='center', va='bottom', fontsize=14, color='m',\n",
    "            arrowprops=dict(facecolor='m', edgecolor='m', arrowstyle='simple'))\n",
    "ax.annotate('$f(\\partial A_4)$', xy=(-0.4, -1.65), xytext=(-0.4, -1.95), ha='center', va='top', fontsize=14, color='y',\n",
    "            arrowprops=dict(facecolor='y', edgecolor='y', arrowstyle='simple'))\n",
    "ax.annotate('$f(A)$ (hatched region)', xy=(0.3, -0.6), xytext=(1.0, -0.8), ha='left', va='center', fontsize=14, color='r',\n",
    "            arrowprops=dict(facecolor='r', edgecolor='r', arrowstyle='simple'))\n",
    "\n",
    "plt.show()"
   ]
  },
  {
   "cell_type": "code",
   "execution_count": null,
   "metadata": {
    "collapsed": true
   },
   "outputs": [],
   "source": []
  }
 ],
 "metadata": {
  "hide_input": false,
  "kernelspec": {
   "display_name": "Python 2",
   "language": "python",
   "name": "python2"
  },
  "language_info": {
   "codemirror_mode": {
    "name": "ipython",
    "version": 2
   },
   "file_extension": ".py",
   "mimetype": "text/x-python",
   "name": "python",
   "nbconvert_exporter": "python",
   "pygments_lexer": "ipython2",
   "version": "2.7.12"
  }
 },
 "nbformat": 4,
 "nbformat_minor": 0
}
