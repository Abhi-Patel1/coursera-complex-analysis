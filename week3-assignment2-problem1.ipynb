{
 "cells": [
  {
   "cell_type": "markdown",
   "metadata": {},
   "source": [
    "### Problem 1"
   ]
  },
  {
   "cell_type": "code",
   "execution_count": 1,
   "metadata": {
    "collapsed": false
   },
   "outputs": [
    {
     "data": {
      "text/latex": [
       "(a) For $z \\in L_1 = (-\\frac{\\pi}{2}, \\frac{\\pi}{2})$"
      ],
      "text/plain": [
       "<IPython.core.display.Latex object>"
      ]
     },
     "metadata": {},
     "output_type": "display_data"
    }
   ],
   "source": [
    "%%latex\n",
    "(a) For $z \\in L_1 = (-\\frac{\\pi}{2}, \\frac{\\pi}{2})$"
   ]
  },
  {
   "cell_type": "code",
   "execution_count": 2,
   "metadata": {
    "collapsed": false
   },
   "outputs": [
    {
     "data": {
      "text/latex": [
       "$\\quad f(z) = \\sin z$ is a monotonous real value function"
      ],
      "text/plain": [
       "<IPython.core.display.Latex object>"
      ]
     },
     "metadata": {},
     "output_type": "display_data"
    }
   ],
   "source": [
    "%%latex\n",
    "$\\quad f(z) = \\sin z$ is a monotonous real value function"
   ]
  },
  {
   "cell_type": "code",
   "execution_count": 3,
   "metadata": {
    "collapsed": false
   },
   "outputs": [
    {
     "data": {
      "text/latex": [
       "$\\quad$therefore its extrema are at the boundary, namely $\\: f(-\\frac{\\pi}{2}) = -1$ and $\\: f(\\frac{\\pi}{2}) = 1$"
      ],
      "text/plain": [
       "<IPython.core.display.Latex object>"
      ]
     },
     "metadata": {},
     "output_type": "display_data"
    }
   ],
   "source": [
    "%%latex\n",
    "$\\quad$therefore its extrema are at the boundary, namely $\\: f(-\\frac{\\pi}{2}) = -1$ and $\\: f(\\frac{\\pi}{2}) = 1$"
   ]
  },
  {
   "cell_type": "code",
   "execution_count": 4,
   "metadata": {
    "collapsed": false
   },
   "outputs": [
    {
     "data": {
      "text/latex": [
       "$\\quad$the image is part of the real axis: $(-1, 1)$"
      ],
      "text/plain": [
       "<IPython.core.display.Latex object>"
      ]
     },
     "metadata": {},
     "output_type": "display_data"
    }
   ],
   "source": [
    "%%latex\n",
    "$\\quad$the image is part of the real axis: $(-1, 1)$"
   ]
  },
  {
   "cell_type": "code",
   "execution_count": 5,
   "metadata": {
    "collapsed": false
   },
   "outputs": [
    {
     "data": {
      "text/latex": [
       "(b) For $z \\in L_2 = \\{iy \\mid y \\in R \\}$"
      ],
      "text/plain": [
       "<IPython.core.display.Latex object>"
      ]
     },
     "metadata": {},
     "output_type": "display_data"
    }
   ],
   "source": [
    "%%latex\n",
    "(b) For $z \\in L_2 = \\{iy \\mid y \\in R \\}$"
   ]
  },
  {
   "cell_type": "code",
   "execution_count": 6,
   "metadata": {
    "collapsed": false
   },
   "outputs": [
    {
     "data": {
      "text/latex": [
       "$\\quad f(z) = \\sin z = \\sin iy = \\frac{e^{i(iy)} - e^{-i(iy)}}{2i} = \\frac{e^{-y} - e^{y}}{2i} = i\\sinh y$"
      ],
      "text/plain": [
       "<IPython.core.display.Latex object>"
      ]
     },
     "metadata": {},
     "output_type": "display_data"
    }
   ],
   "source": [
    "%%latex\n",
    "$\\quad f(z) = \\sin z = \\sin iy = \\frac{e^{i(iy)} - e^{-i(iy)}}{2i} = \\frac{e^{-y} - e^{y}}{2i} = i\\sinh y$"
   ]
  },
  {
   "cell_type": "code",
   "execution_count": 7,
   "metadata": {
    "collapsed": false
   },
   "outputs": [
    {
     "data": {
      "text/latex": [
       "$\\quad$the image is the imaginary axis: $\\{z \\mid \\operatorname{Re} z = 0 \\}$"
      ],
      "text/plain": [
       "<IPython.core.display.Latex object>"
      ]
     },
     "metadata": {},
     "output_type": "display_data"
    }
   ],
   "source": [
    "%%latex\n",
    "$\\quad$the image is the imaginary axis: $\\{z \\mid \\operatorname{Re} z = 0 \\}$"
   ]
  },
  {
   "cell_type": "code",
   "execution_count": 8,
   "metadata": {
    "collapsed": false
   },
   "outputs": [
    {
     "data": {
      "text/latex": [
       "(c) For $z \\in L_3 = \\{-\\frac{\\pi}{2} + iy \\mid y \\in R \\}$"
      ],
      "text/plain": [
       "<IPython.core.display.Latex object>"
      ]
     },
     "metadata": {},
     "output_type": "display_data"
    }
   ],
   "source": [
    "%%latex\n",
    "(c) For $z \\in L_3 = \\{-\\frac{\\pi}{2} + iy \\mid y \\in R \\}$"
   ]
  },
  {
   "cell_type": "code",
   "execution_count": 9,
   "metadata": {
    "collapsed": false
   },
   "outputs": [
    {
     "data": {
      "text/latex": [
       "$\\quad f(z) = \\sin z = \\sin iy = \\frac{e^{i(-\\frac{\\pi}{2} + iy)} - e^{-i(-\\frac{\\pi}{2} + iy)}}{2i}\n",
       "= \\frac{-i e^{-y} - i e^{y}}{2i} = -\\cosh y$"
      ],
      "text/plain": [
       "<IPython.core.display.Latex object>"
      ]
     },
     "metadata": {},
     "output_type": "display_data"
    }
   ],
   "source": [
    "%%latex\n",
    "$\\quad f(z) = \\sin z = \\sin iy = \\frac{e^{i(-\\frac{\\pi}{2} + iy)} - e^{-i(-\\frac{\\pi}{2} + iy)}}{2i}\n",
    "= \\frac{-i e^{-y} - i e^{y}}{2i} = -\\cosh y$"
   ]
  },
  {
   "cell_type": "code",
   "execution_count": 10,
   "metadata": {
    "collapsed": false
   },
   "outputs": [
    {
     "data": {
      "text/latex": [
       "$\\quad$the image is part of the real axis: $(-\\infty, -1]$"
      ],
      "text/plain": [
       "<IPython.core.display.Latex object>"
      ]
     },
     "metadata": {},
     "output_type": "display_data"
    }
   ],
   "source": [
    "%%latex\n",
    "$\\quad$the image is part of the real axis: $(-\\infty, -1]$"
   ]
  },
  {
   "cell_type": "code",
   "execution_count": 11,
   "metadata": {
    "collapsed": false
   },
   "outputs": [
    {
     "data": {
      "text/latex": [
       "(d) For $z \\in L_4 = \\{\\frac{\\pi}{2} + iy \\mid y \\in R \\}$"
      ],
      "text/plain": [
       "<IPython.core.display.Latex object>"
      ]
     },
     "metadata": {},
     "output_type": "display_data"
    }
   ],
   "source": [
    "%%latex\n",
    "(d) For $z \\in L_4 = \\{\\frac{\\pi}{2} + iy \\mid y \\in R \\}$"
   ]
  },
  {
   "cell_type": "code",
   "execution_count": 12,
   "metadata": {
    "collapsed": false
   },
   "outputs": [
    {
     "data": {
      "text/latex": [
       "$\\quad f(z) = \\sin z = \\sin iy = \\frac{e^{i(\\frac{\\pi}{2} + iy)} - e^{-i(\\frac{\\pi}{2} + iy)}}{2i}\n",
       "= \\frac{i e^{-y} - (-i) e^{y}}{2i} = \\cosh y$"
      ],
      "text/plain": [
       "<IPython.core.display.Latex object>"
      ]
     },
     "metadata": {},
     "output_type": "display_data"
    }
   ],
   "source": [
    "%%latex\n",
    "$\\quad f(z) = \\sin z = \\sin iy = \\frac{e^{i(\\frac{\\pi}{2} + iy)} - e^{-i(\\frac{\\pi}{2} + iy)}}{2i}\n",
    "= \\frac{i e^{-y} - (-i) e^{y}}{2i} = \\cosh y$"
   ]
  },
  {
   "cell_type": "code",
   "execution_count": 13,
   "metadata": {
    "collapsed": false
   },
   "outputs": [
    {
     "data": {
      "text/latex": [
       "$\\quad$the image is part of the real axis: $[1,+\\infty)$"
      ],
      "text/plain": [
       "<IPython.core.display.Latex object>"
      ]
     },
     "metadata": {},
     "output_type": "display_data"
    }
   ],
   "source": [
    "%%latex\n",
    "$\\quad$the image is part of the real axis: $[1,+\\infty)$"
   ]
  },
  {
   "cell_type": "code",
   "execution_count": 14,
   "metadata": {
    "collapsed": false
   },
   "outputs": [
    {
     "data": {
      "text/latex": [
       "(e) For $z \\in U = \\{z \\in C \\mid -\\frac{\\pi}{2} < \\operatorname{Re} z < \\frac{\\pi}{2} \\}$"
      ],
      "text/plain": [
       "<IPython.core.display.Latex object>"
      ]
     },
     "metadata": {},
     "output_type": "display_data"
    }
   ],
   "source": [
    "%%latex\n",
    "(e) For $z \\in U = \\{z \\in C \\mid -\\frac{\\pi}{2} < \\operatorname{Re} z < \\frac{\\pi}{2} \\}$"
   ]
  },
  {
   "cell_type": "code",
   "execution_count": 15,
   "metadata": {
    "collapsed": false
   },
   "outputs": [
    {
     "data": {
      "text/latex": [
       "$\\quad$the image must at least contain the images of $L_1$ and $L_2$, and have the image of $L_3$ and $L_4$ as boundary"
      ],
      "text/plain": [
       "<IPython.core.display.Latex object>"
      ]
     },
     "metadata": {},
     "output_type": "display_data"
    }
   ],
   "source": [
    "%%latex\n",
    "$\\quad$the image must at least contain the images of $L_1$ and $L_2$, and have the image of $L_3$ and $L_4$ as boundary"
   ]
  },
  {
   "cell_type": "code",
   "execution_count": 16,
   "metadata": {
    "collapsed": false
   },
   "outputs": [
    {
     "data": {
      "text/latex": [
       "$\\quad$a reasonable guess is that the image is $\\{z \\in C \\mid z \\in (-1, 1) \\cup \\operatorname{Im} z \\neq 0\\}$"
      ],
      "text/plain": [
       "<IPython.core.display.Latex object>"
      ]
     },
     "metadata": {},
     "output_type": "display_data"
    }
   ],
   "source": [
    "%%latex\n",
    "$\\quad$a reasonable guess is that the image is $\\{z \\in C \\mid z \\in (-1, 1) \\cup \\operatorname{Im} z \\neq 0\\}$"
   ]
  },
  {
   "cell_type": "code",
   "execution_count": 17,
   "metadata": {
    "collapsed": false
   },
   "outputs": [
    {
     "data": {
      "text/latex": [
       "$\\quad$Proof:"
      ],
      "text/plain": [
       "<IPython.core.display.Latex object>"
      ]
     },
     "metadata": {},
     "output_type": "display_data"
    }
   ],
   "source": [
    "%%latex\n",
    "$\\quad$Proof:"
   ]
  },
  {
   "cell_type": "code",
   "execution_count": 18,
   "metadata": {
    "collapsed": false
   },
   "outputs": [
    {
     "data": {
      "text/latex": [
       "$\\qquad \\forall s \\in (-1, 1)$, $\\: \\exists z \\in L_1 \\subset U$ such that $f(z) = s$"
      ],
      "text/plain": [
       "<IPython.core.display.Latex object>"
      ]
     },
     "metadata": {},
     "output_type": "display_data"
    }
   ],
   "source": [
    "%%latex\n",
    "$\\qquad \\forall s \\in (-1, 1)$, $\\: \\exists z \\in L_1 \\subset U$ such that $f(z) = s$"
   ]
  },
  {
   "cell_type": "code",
   "execution_count": 19,
   "metadata": {
    "collapsed": false
   },
   "outputs": [
    {
     "data": {
      "text/latex": [
       "$\\qquad\\quad$so $(-1, 1)$ is in the image"
      ],
      "text/plain": [
       "<IPython.core.display.Latex object>"
      ]
     },
     "metadata": {},
     "output_type": "display_data"
    }
   ],
   "source": [
    "%%latex\n",
    "$\\qquad\\quad$so $(-1, 1)$ is in the image"
   ]
  },
  {
   "cell_type": "code",
   "execution_count": 20,
   "metadata": {
    "collapsed": false
   },
   "outputs": [
    {
     "data": {
      "text/latex": [
       "$\\qquad \\forall s \\in \\{s \\in C \\mid \\operatorname{Im} s \\neq 0\\}$, according to the fundamental theorem of algebra"
      ],
      "text/plain": [
       "<IPython.core.display.Latex object>"
      ]
     },
     "metadata": {},
     "output_type": "display_data"
    }
   ],
   "source": [
    "%%latex\n",
    "$\\qquad \\forall s \\in \\{s \\in C \\mid \\operatorname{Im} s \\neq 0\\}$, according to the fundamental theorem of algebra"
   ]
  },
  {
   "cell_type": "code",
   "execution_count": 21,
   "metadata": {
    "collapsed": false
   },
   "outputs": [
    {
     "data": {
      "text/latex": [
       "$\\qquad\\quad \\exists t \\in C$ satisfying $g(t) = t^2 - 2i \\cdot st - 1 = 0$"
      ],
      "text/plain": [
       "<IPython.core.display.Latex object>"
      ]
     },
     "metadata": {},
     "output_type": "display_data"
    }
   ],
   "source": [
    "%%latex\n",
    "$\\qquad\\quad \\exists t \\in C$ satisfying $g(t) = t^2 - 2i \\cdot st - 1 = 0$"
   ]
  },
  {
   "cell_type": "code",
   "execution_count": 22,
   "metadata": {
    "collapsed": false
   },
   "outputs": [
    {
     "data": {
      "text/latex": [
       "$\\qquad\\quad$and since $g(0) = -1 \\neq 0$, we must have $t \\neq 0$"
      ],
      "text/plain": [
       "<IPython.core.display.Latex object>"
      ]
     },
     "metadata": {},
     "output_type": "display_data"
    }
   ],
   "source": [
    "%%latex\n",
    "$\\qquad\\quad$and since $g(0) = -1 \\neq 0$, we must have $t \\neq 0$"
   ]
  },
  {
   "cell_type": "code",
   "execution_count": 43,
   "metadata": {
    "collapsed": false
   },
   "outputs": [
    {
     "data": {
      "text/latex": [
       "$\\qquad\\quad$if $\\operatorname{Re}t < 0$, then $\\operatorname{Arg}t \\in (-\\pi, -\\frac{\\pi}{2}) \\cup (\\frac{\\pi}{2}, \\pi]$"
      ],
      "text/plain": [
       "<IPython.core.display.Latex object>"
      ]
     },
     "metadata": {},
     "output_type": "display_data"
    }
   ],
   "source": [
    "%%latex\n",
    "$\\qquad\\quad$if $\\operatorname{Re}t < 0$, then $\\operatorname{Arg}t \\in (-\\pi, -\\frac{\\pi}{2}) \\cup (\\frac{\\pi}{2}, \\pi]$"
   ]
  },
  {
   "cell_type": "code",
   "execution_count": 24,
   "metadata": {
    "collapsed": false
   },
   "outputs": [
    {
     "data": {
      "text/latex": [
       "$\\qquad\\quad$since $\\operatorname{Arg}(-\\frac{1}{t}) = \\operatorname{Arg}(-1) - \\operatorname{Arg}t + 2k\\pi$, where $k \\in Z$"
      ],
      "text/plain": [
       "<IPython.core.display.Latex object>"
      ]
     },
     "metadata": {},
     "output_type": "display_data"
    }
   ],
   "source": [
    "%%latex\n",
    "$\\qquad\\quad$since $\\operatorname{Arg}(-\\frac{1}{t}) = \\operatorname{Arg}(-1) - \\operatorname{Arg}t + 2k\\pi$, where $k \\in Z$"
   ]
  },
  {
   "cell_type": "code",
   "execution_count": 25,
   "metadata": {
    "collapsed": false
   },
   "outputs": [
    {
     "data": {
      "text/latex": [
       "$\\qquad\\quad$we have $\\operatorname{Arg}(-\\frac{1}{t}) \\in (-\\frac{\\pi}{2}, \\frac{\\pi}{2})$, so $\\operatorname{Re}(-\\frac{1}{t}) > 0$"
      ],
      "text/plain": [
       "<IPython.core.display.Latex object>"
      ]
     },
     "metadata": {},
     "output_type": "display_data"
    }
   ],
   "source": [
    "%%latex\n",
    "$\\qquad\\quad$we have $\\operatorname{Arg}(-\\frac{1}{t}) \\in (-\\frac{\\pi}{2}, \\frac{\\pi}{2})$, so $\\operatorname{Re}(-\\frac{1}{t}) > 0$"
   ]
  },
  {
   "cell_type": "code",
   "execution_count": 26,
   "metadata": {
    "collapsed": false
   },
   "outputs": [
    {
     "data": {
      "text/latex": [
       "$\\qquad\\quad$notice that $g(-\\frac{1}{t}) = (-\\frac{1}{t})^2 - 2i \\cdot s(-\\frac{1}{t}) - 1 = \\frac{1 + 2i \\cdot st - t^2}{t^2} = -\\frac{1}{t^2} \\cdot g(t) = 0$"
      ],
      "text/plain": [
       "<IPython.core.display.Latex object>"
      ]
     },
     "metadata": {},
     "output_type": "display_data"
    }
   ],
   "source": [
    "%%latex\n",
    "$\\qquad\\quad$notice that $g(-\\frac{1}{t}) = (-\\frac{1}{t})^2 - 2i \\cdot s(-\\frac{1}{t}) - 1 = \\frac{1 + 2i \\cdot st - t^2}{t^2} = -\\frac{1}{t^2} \\cdot g(t) = 0$"
   ]
  },
  {
   "cell_type": "code",
   "execution_count": 27,
   "metadata": {
    "collapsed": false
   },
   "outputs": [
    {
     "data": {
      "text/latex": [
       "$\\qquad\\quad$ so $\\exists t \\in \\{t \\in C \\mid \\operatorname{Re}t > 0\\}$ such that $g(t) = 0$"
      ],
      "text/plain": [
       "<IPython.core.display.Latex object>"
      ]
     },
     "metadata": {},
     "output_type": "display_data"
    }
   ],
   "source": [
    "%%latex\n",
    "$\\qquad\\quad$ so $\\exists t \\in \\{t \\in C \\mid \\operatorname{Re}t > 0\\}$ such that $g(t) = 0$"
   ]
  },
  {
   "cell_type": "code",
   "execution_count": 28,
   "metadata": {
    "collapsed": false
   },
   "outputs": [
    {
     "data": {
      "text/latex": [
       "$\\qquad\\quad$assuming $t = r e^{i \\theta}$, with $r > 0$ and $\\theta \\in (-\\frac{\\pi}{2}, \\frac{\\pi}{2})$"
      ],
      "text/plain": [
       "<IPython.core.display.Latex object>"
      ]
     },
     "metadata": {},
     "output_type": "display_data"
    }
   ],
   "source": [
    "%%latex\n",
    "$\\qquad\\quad$assuming $t = r e^{i \\theta}$, with $r > 0$ and $\\theta \\in (-\\frac{\\pi}{2}, \\frac{\\pi}{2})$"
   ]
  },
  {
   "cell_type": "code",
   "execution_count": 29,
   "metadata": {
    "collapsed": false
   },
   "outputs": [
    {
     "data": {
      "text/latex": [
       "$\\qquad\\quad\\: \\exists z = \\theta -i \\ln r \\in U$ such that $e^{iz} = e^{i(\\theta -i \\ln r)} = e^{\\ln r + i\\theta} = r e^{i \\theta} = t$"
      ],
      "text/plain": [
       "<IPython.core.display.Latex object>"
      ]
     },
     "metadata": {},
     "output_type": "display_data"
    }
   ],
   "source": [
    "%%latex\n",
    "$\\qquad\\quad\\: \\exists z = \\theta -i \\ln r \\in U$ such that $e^{iz} = e^{i(\\theta -i \\ln r)} = e^{\\ln r + i\\theta} = r e^{i \\theta} = t$"
   ]
  },
  {
   "cell_type": "code",
   "execution_count": 44,
   "metadata": {
    "collapsed": false
   },
   "outputs": [
    {
     "data": {
      "text/latex": [
       "$\\qquad\\quad$such that $f(z) = \\sin z = \\frac{e^{iz} - e^{-iz}}{2i} = \\frac{t - \\frac{1}{t}}{2i} = \\frac{t^2 - 1}{2it} = s$"
      ],
      "text/plain": [
       "<IPython.core.display.Latex object>"
      ]
     },
     "metadata": {},
     "output_type": "display_data"
    }
   ],
   "source": [
    "%%latex\n",
    "$\\qquad\\quad$such that $f(z) = \\sin z = \\frac{e^{iz} - e^{-iz}}{2i} = \\frac{t - \\frac{1}{t}}{2i} = \\frac{t^2 - 1}{2it} = s$"
   ]
  },
  {
   "cell_type": "code",
   "execution_count": 31,
   "metadata": {
    "collapsed": false
   },
   "outputs": [
    {
     "data": {
      "text/latex": [
       "$\\qquad\\quad$so $\\{s \\in C \\mid \\operatorname{Im} s \\neq 0\\}$ is in the image"
      ],
      "text/plain": [
       "<IPython.core.display.Latex object>"
      ]
     },
     "metadata": {},
     "output_type": "display_data"
    }
   ],
   "source": [
    "%%latex\n",
    "$\\qquad\\quad$so $\\{s \\in C \\mid \\operatorname{Im} s \\neq 0\\}$ is in the image"
   ]
  },
  {
   "cell_type": "code",
   "execution_count": 32,
   "metadata": {
    "collapsed": false
   },
   "outputs": [
    {
     "data": {
      "text/latex": [
       "$\\qquad$By contradication, if $(-\\infty, -1]$ is in the image"
      ],
      "text/plain": [
       "<IPython.core.display.Latex object>"
      ]
     },
     "metadata": {},
     "output_type": "display_data"
    }
   ],
   "source": [
    "%%latex\n",
    "$\\qquad$By contradication, if $(-\\infty, -1]$ is in the image"
   ]
  },
  {
   "cell_type": "code",
   "execution_count": 33,
   "metadata": {
    "collapsed": false
   },
   "outputs": [
    {
     "data": {
      "text/latex": [
       "$\\qquad\\quad$then $\\exists z \\in U$ so that $f(z) = s \\in (-\\infty, -1]$"
      ],
      "text/plain": [
       "<IPython.core.display.Latex object>"
      ]
     },
     "metadata": {},
     "output_type": "display_data"
    }
   ],
   "source": [
    "%%latex\n",
    "$\\qquad\\quad$then $\\exists z \\in U$ so that $f(z) = s \\in (-\\infty, -1]$"
   ]
  },
  {
   "cell_type": "code",
   "execution_count": 34,
   "metadata": {
    "collapsed": false
   },
   "outputs": [
    {
     "data": {
      "text/latex": [
       "$\\qquad\\quad$assuming $z = x + i y$, with $x, y \\in R$"
      ],
      "text/plain": [
       "<IPython.core.display.Latex object>"
      ]
     },
     "metadata": {},
     "output_type": "display_data"
    }
   ],
   "source": [
    "%%latex\n",
    "$\\qquad\\quad$assuming $z = x + i y$, with $x, y \\in R$"
   ]
  },
  {
   "cell_type": "code",
   "execution_count": 35,
   "metadata": {
    "collapsed": false
   },
   "outputs": [
    {
     "data": {
      "text/latex": [
       "$\\qquad\\quad$then $s = f(z) = \\sin z = \\sin (x + i y) = \\sin x \\cosh y + i \\cos x \\sinh y$"
      ],
      "text/plain": [
       "<IPython.core.display.Latex object>"
      ]
     },
     "metadata": {},
     "output_type": "display_data"
    }
   ],
   "source": [
    "%%latex\n",
    "$\\qquad\\quad$then $s = f(z) = \\sin z = \\sin (x + i y) = \\sin x \\cosh y + i \\cos x \\sinh y$"
   ]
  },
  {
   "cell_type": "code",
   "execution_count": 45,
   "metadata": {
    "collapsed": false
   },
   "outputs": [
    {
     "data": {
      "text/latex": [
       "$\\qquad\\quad$as $\\operatorname{Im} s = 0$, we have $\\cos x = 0$ or $\\sinh y = 0$"
      ],
      "text/plain": [
       "<IPython.core.display.Latex object>"
      ]
     },
     "metadata": {},
     "output_type": "display_data"
    }
   ],
   "source": [
    "%%latex\n",
    "$\\qquad\\quad$as $\\operatorname{Im} s = 0$, we have $\\cos x = 0$ or $\\sinh y = 0$"
   ]
  },
  {
   "cell_type": "code",
   "execution_count": 37,
   "metadata": {
    "collapsed": false
   },
   "outputs": [
    {
     "data": {
      "text/latex": [
       "$\\qquad\\quad$that is $x = (k + \\frac{1}{2})\\pi$ or $y = 0$, with $k \\in Z$"
      ],
      "text/plain": [
       "<IPython.core.display.Latex object>"
      ]
     },
     "metadata": {},
     "output_type": "display_data"
    }
   ],
   "source": [
    "%%latex\n",
    "$\\qquad\\quad$that is $x = (k + \\frac{1}{2})\\pi$ or $y = 0$, with $k \\in Z$"
   ]
  },
  {
   "cell_type": "code",
   "execution_count": 38,
   "metadata": {
    "collapsed": false
   },
   "outputs": [
    {
     "data": {
      "text/latex": [
       "$\\qquad\\quad$when $y = 0$, $z \\in L_1$, so $s \\in (-1, 1)$, contradicting with $s \\in (-\\infty, -1]$"
      ],
      "text/plain": [
       "<IPython.core.display.Latex object>"
      ]
     },
     "metadata": {},
     "output_type": "display_data"
    }
   ],
   "source": [
    "%%latex\n",
    "$\\qquad\\quad$when $y = 0$, $z \\in L_1$, so $s \\in (-1, 1)$, contradicting with $s \\in (-\\infty, -1]$"
   ]
  },
  {
   "cell_type": "code",
   "execution_count": 39,
   "metadata": {
    "collapsed": false
   },
   "outputs": [
    {
     "data": {
      "text/latex": [
       "$\\qquad\\quad$when $x = (k + \\frac{1}{2})\\pi$, $\\operatorname{Re} z = (k + \\frac{1}{2})\\pi$, contradicting with $z \\in U = \\{z \\in C \\mid -\\frac{\\pi}{2} < \\operatorname{Re} z < \\frac{\\pi}{2} \\}$"
      ],
      "text/plain": [
       "<IPython.core.display.Latex object>"
      ]
     },
     "metadata": {},
     "output_type": "display_data"
    }
   ],
   "source": [
    "%%latex\n",
    "$\\qquad\\quad$when $x = (k + \\frac{1}{2})\\pi$, $\\operatorname{Re} z = (k + \\frac{1}{2})\\pi$, contradicting with $z \\in U = \\{z \\in C \\mid -\\frac{\\pi}{2} < \\operatorname{Re} z < \\frac{\\pi}{2} \\}$"
   ]
  },
  {
   "cell_type": "code",
   "execution_count": 40,
   "metadata": {
    "collapsed": false
   },
   "outputs": [
    {
     "data": {
      "text/latex": [
       "$\\qquad\\quad$so $(-\\infty, -1]$ is not in the image"
      ],
      "text/plain": [
       "<IPython.core.display.Latex object>"
      ]
     },
     "metadata": {},
     "output_type": "display_data"
    }
   ],
   "source": [
    "%%latex\n",
    "$\\qquad\\quad$so $(-\\infty, -1]$ is not in the image"
   ]
  },
  {
   "cell_type": "code",
   "execution_count": 41,
   "metadata": {
    "collapsed": false
   },
   "outputs": [
    {
     "data": {
      "text/latex": [
       "$\\qquad$Similarly, by contradication, we can prove $[1, \\infty)$ is not in the image"
      ],
      "text/plain": [
       "<IPython.core.display.Latex object>"
      ]
     },
     "metadata": {},
     "output_type": "display_data"
    }
   ],
   "source": [
    "%%latex\n",
    "$\\qquad$Similarly, by contradication, we can prove $[1, \\infty)$ is not in the image"
   ]
  },
  {
   "cell_type": "code",
   "execution_count": 42,
   "metadata": {
    "collapsed": false
   },
   "outputs": [
    {
     "data": {
      "text/latex": [
       "$\\qquad Q.E.D.$"
      ],
      "text/plain": [
       "<IPython.core.display.Latex object>"
      ]
     },
     "metadata": {},
     "output_type": "display_data"
    }
   ],
   "source": [
    "%%latex\n",
    "$\\qquad Q.E.D.$"
   ]
  }
 ],
 "metadata": {
  "hide_input": false,
  "kernelspec": {
   "display_name": "Python 2",
   "language": "python",
   "name": "python2"
  },
  "language_info": {
   "codemirror_mode": {
    "name": "ipython",
    "version": 2
   },
   "file_extension": ".py",
   "mimetype": "text/x-python",
   "name": "python",
   "nbconvert_exporter": "python",
   "pygments_lexer": "ipython2",
   "version": "2.7.12"
  }
 },
 "nbformat": 4,
 "nbformat_minor": 0
}
